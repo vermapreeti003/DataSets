{
 "cells": [
  {
   "cell_type": "code",
   "execution_count": 1,
   "id": "1a43e8ca",
   "metadata": {},
   "outputs": [],
   "source": [
    "#import dependencies\n",
    "import pandas as pd\n",
    "import numpy as np\n",
    "%matplotlib inline\n",
    "import matplotlib as mpl\n",
    "import matplotlib.pyplot as plt\n",
    "import seaborn as sns\n",
    "import datetime"
   ]
  },
  {
   "cell_type": "code",
   "execution_count": 2,
   "id": "68f860a9",
   "metadata": {},
   "outputs": [],
   "source": [
    "#read dataset\n",
    "cab_df= pd.read_csv('Cab_Data.csv')\n",
    "city_df= pd.read_csv('City.csv')\n",
    "cust_df= pd.read_csv('Customer_ID.csv')\n",
    "transac_df = pd.read_csv('Transaction_ID.csv')\n"
   ]
  },
  {
   "cell_type": "code",
   "execution_count": 3,
   "id": "1ac93183",
   "metadata": {},
   "outputs": [
    {
     "data": {
      "text/html": [
       "<div>\n",
       "<style scoped>\n",
       "    .dataframe tbody tr th:only-of-type {\n",
       "        vertical-align: middle;\n",
       "    }\n",
       "\n",
       "    .dataframe tbody tr th {\n",
       "        vertical-align: top;\n",
       "    }\n",
       "\n",
       "    .dataframe thead th {\n",
       "        text-align: right;\n",
       "    }\n",
       "</style>\n",
       "<table border=\"1\" class=\"dataframe\">\n",
       "  <thead>\n",
       "    <tr style=\"text-align: right;\">\n",
       "      <th></th>\n",
       "      <th>Transaction ID</th>\n",
       "      <th>Date of Travel</th>\n",
       "      <th>Company</th>\n",
       "      <th>City</th>\n",
       "      <th>KM Travelled</th>\n",
       "      <th>Price Charged</th>\n",
       "      <th>Cost of Trip</th>\n",
       "    </tr>\n",
       "  </thead>\n",
       "  <tbody>\n",
       "    <tr>\n",
       "      <th>0</th>\n",
       "      <td>10000011</td>\n",
       "      <td>42377</td>\n",
       "      <td>Pink Cab</td>\n",
       "      <td>ATLANTA GA</td>\n",
       "      <td>30.45</td>\n",
       "      <td>370.95</td>\n",
       "      <td>313.635</td>\n",
       "    </tr>\n",
       "    <tr>\n",
       "      <th>1</th>\n",
       "      <td>10000012</td>\n",
       "      <td>42375</td>\n",
       "      <td>Pink Cab</td>\n",
       "      <td>ATLANTA GA</td>\n",
       "      <td>28.62</td>\n",
       "      <td>358.52</td>\n",
       "      <td>334.854</td>\n",
       "    </tr>\n",
       "    <tr>\n",
       "      <th>2</th>\n",
       "      <td>10000013</td>\n",
       "      <td>42371</td>\n",
       "      <td>Pink Cab</td>\n",
       "      <td>ATLANTA GA</td>\n",
       "      <td>9.04</td>\n",
       "      <td>125.20</td>\n",
       "      <td>97.632</td>\n",
       "    </tr>\n",
       "    <tr>\n",
       "      <th>3</th>\n",
       "      <td>10000014</td>\n",
       "      <td>42376</td>\n",
       "      <td>Pink Cab</td>\n",
       "      <td>ATLANTA GA</td>\n",
       "      <td>33.17</td>\n",
       "      <td>377.40</td>\n",
       "      <td>351.602</td>\n",
       "    </tr>\n",
       "    <tr>\n",
       "      <th>4</th>\n",
       "      <td>10000015</td>\n",
       "      <td>42372</td>\n",
       "      <td>Pink Cab</td>\n",
       "      <td>ATLANTA GA</td>\n",
       "      <td>8.73</td>\n",
       "      <td>114.62</td>\n",
       "      <td>97.776</td>\n",
       "    </tr>\n",
       "  </tbody>\n",
       "</table>\n",
       "</div>"
      ],
      "text/plain": [
       "   Transaction ID  Date of Travel   Company        City  KM Travelled  \\\n",
       "0        10000011           42377  Pink Cab  ATLANTA GA         30.45   \n",
       "1        10000012           42375  Pink Cab  ATLANTA GA         28.62   \n",
       "2        10000013           42371  Pink Cab  ATLANTA GA          9.04   \n",
       "3        10000014           42376  Pink Cab  ATLANTA GA         33.17   \n",
       "4        10000015           42372  Pink Cab  ATLANTA GA          8.73   \n",
       "\n",
       "   Price Charged  Cost of Trip  \n",
       "0         370.95       313.635  \n",
       "1         358.52       334.854  \n",
       "2         125.20        97.632  \n",
       "3         377.40       351.602  \n",
       "4         114.62        97.776  "
      ]
     },
     "execution_count": 3,
     "metadata": {},
     "output_type": "execute_result"
    }
   ],
   "source": [
    "#Pre processing data\n",
    "cab_df.head()"
   ]
  },
  {
   "cell_type": "code",
   "execution_count": 4,
   "id": "b0af9e03",
   "metadata": {},
   "outputs": [
    {
     "name": "stdout",
     "output_type": "stream",
     "text": [
      "<class 'pandas.core.frame.DataFrame'>\n",
      "RangeIndex: 359392 entries, 0 to 359391\n",
      "Data columns (total 7 columns):\n",
      " #   Column          Non-Null Count   Dtype  \n",
      "---  ------          --------------   -----  \n",
      " 0   Transaction ID  359392 non-null  int64  \n",
      " 1   Date of Travel  359392 non-null  int64  \n",
      " 2   Company         359392 non-null  object \n",
      " 3   City            359392 non-null  object \n",
      " 4   KM Travelled    359392 non-null  float64\n",
      " 5   Price Charged   359392 non-null  float64\n",
      " 6   Cost of Trip    359392 non-null  float64\n",
      "dtypes: float64(3), int64(2), object(2)\n",
      "memory usage: 19.2+ MB\n"
     ]
    }
   ],
   "source": [
    "#checking for null values\n",
    "cab_df.info()\n"
   ]
  },
  {
   "cell_type": "code",
   "execution_count": 5,
   "id": "2d36c7d9",
   "metadata": {},
   "outputs": [
    {
     "data": {
      "text/plain": [
       "Transaction ID    0\n",
       "Date of Travel    0\n",
       "Company           0\n",
       "City              0\n",
       "KM Travelled      0\n",
       "Price Charged     0\n",
       "Cost of Trip      0\n",
       "dtype: int64"
      ]
     },
     "execution_count": 5,
     "metadata": {},
     "output_type": "execute_result"
    }
   ],
   "source": [
    "cab_df.isnull().sum()"
   ]
  },
  {
   "cell_type": "code",
   "execution_count": 6,
   "id": "78d6dbae",
   "metadata": {},
   "outputs": [
    {
     "data": {
      "text/html": [
       "<div>\n",
       "<style scoped>\n",
       "    .dataframe tbody tr th:only-of-type {\n",
       "        vertical-align: middle;\n",
       "    }\n",
       "\n",
       "    .dataframe tbody tr th {\n",
       "        vertical-align: top;\n",
       "    }\n",
       "\n",
       "    .dataframe thead th {\n",
       "        text-align: right;\n",
       "    }\n",
       "</style>\n",
       "<table border=\"1\" class=\"dataframe\">\n",
       "  <thead>\n",
       "    <tr style=\"text-align: right;\">\n",
       "      <th></th>\n",
       "      <th>Transaction ID</th>\n",
       "      <th>Customer ID</th>\n",
       "      <th>Payment_Mode</th>\n",
       "    </tr>\n",
       "  </thead>\n",
       "  <tbody>\n",
       "    <tr>\n",
       "      <th>0</th>\n",
       "      <td>10000011</td>\n",
       "      <td>29290</td>\n",
       "      <td>Card</td>\n",
       "    </tr>\n",
       "    <tr>\n",
       "      <th>1</th>\n",
       "      <td>10000012</td>\n",
       "      <td>27703</td>\n",
       "      <td>Card</td>\n",
       "    </tr>\n",
       "    <tr>\n",
       "      <th>2</th>\n",
       "      <td>10000013</td>\n",
       "      <td>28712</td>\n",
       "      <td>Cash</td>\n",
       "    </tr>\n",
       "    <tr>\n",
       "      <th>3</th>\n",
       "      <td>10000014</td>\n",
       "      <td>28020</td>\n",
       "      <td>Cash</td>\n",
       "    </tr>\n",
       "    <tr>\n",
       "      <th>4</th>\n",
       "      <td>10000015</td>\n",
       "      <td>27182</td>\n",
       "      <td>Card</td>\n",
       "    </tr>\n",
       "  </tbody>\n",
       "</table>\n",
       "</div>"
      ],
      "text/plain": [
       "   Transaction ID  Customer ID Payment_Mode\n",
       "0        10000011        29290         Card\n",
       "1        10000012        27703         Card\n",
       "2        10000013        28712         Cash\n",
       "3        10000014        28020         Cash\n",
       "4        10000015        27182         Card"
      ]
     },
     "execution_count": 6,
     "metadata": {},
     "output_type": "execute_result"
    }
   ],
   "source": [
    "transac_df.head()"
   ]
  },
  {
   "cell_type": "code",
   "execution_count": 7,
   "id": "f60dab01",
   "metadata": {},
   "outputs": [
    {
     "name": "stdout",
     "output_type": "stream",
     "text": [
      "<class 'pandas.core.frame.DataFrame'>\n",
      "RangeIndex: 440098 entries, 0 to 440097\n",
      "Data columns (total 3 columns):\n",
      " #   Column          Non-Null Count   Dtype \n",
      "---  ------          --------------   ----- \n",
      " 0   Transaction ID  440098 non-null  int64 \n",
      " 1   Customer ID     440098 non-null  int64 \n",
      " 2   Payment_Mode    440098 non-null  object\n",
      "dtypes: int64(2), object(1)\n",
      "memory usage: 10.1+ MB\n"
     ]
    }
   ],
   "source": [
    "transac_df.info()"
   ]
  },
  {
   "cell_type": "code",
   "execution_count": 8,
   "id": "65be9c8c",
   "metadata": {},
   "outputs": [
    {
     "data": {
      "text/plain": [
       "Transaction ID    0\n",
       "Customer ID       0\n",
       "Payment_Mode      0\n",
       "dtype: int64"
      ]
     },
     "execution_count": 8,
     "metadata": {},
     "output_type": "execute_result"
    }
   ],
   "source": [
    "transac_df.isnull().sum()"
   ]
  },
  {
   "cell_type": "code",
   "execution_count": 9,
   "id": "2230dc59",
   "metadata": {},
   "outputs": [
    {
     "data": {
      "text/html": [
       "<div>\n",
       "<style scoped>\n",
       "    .dataframe tbody tr th:only-of-type {\n",
       "        vertical-align: middle;\n",
       "    }\n",
       "\n",
       "    .dataframe tbody tr th {\n",
       "        vertical-align: top;\n",
       "    }\n",
       "\n",
       "    .dataframe thead th {\n",
       "        text-align: right;\n",
       "    }\n",
       "</style>\n",
       "<table border=\"1\" class=\"dataframe\">\n",
       "  <thead>\n",
       "    <tr style=\"text-align: right;\">\n",
       "      <th></th>\n",
       "      <th>Customer ID</th>\n",
       "      <th>Gender</th>\n",
       "      <th>Age</th>\n",
       "      <th>Income (USD/Month)</th>\n",
       "    </tr>\n",
       "  </thead>\n",
       "  <tbody>\n",
       "    <tr>\n",
       "      <th>0</th>\n",
       "      <td>29290</td>\n",
       "      <td>Male</td>\n",
       "      <td>28</td>\n",
       "      <td>10813</td>\n",
       "    </tr>\n",
       "    <tr>\n",
       "      <th>1</th>\n",
       "      <td>27703</td>\n",
       "      <td>Male</td>\n",
       "      <td>27</td>\n",
       "      <td>9237</td>\n",
       "    </tr>\n",
       "    <tr>\n",
       "      <th>2</th>\n",
       "      <td>28712</td>\n",
       "      <td>Male</td>\n",
       "      <td>53</td>\n",
       "      <td>11242</td>\n",
       "    </tr>\n",
       "    <tr>\n",
       "      <th>3</th>\n",
       "      <td>28020</td>\n",
       "      <td>Male</td>\n",
       "      <td>23</td>\n",
       "      <td>23327</td>\n",
       "    </tr>\n",
       "    <tr>\n",
       "      <th>4</th>\n",
       "      <td>27182</td>\n",
       "      <td>Male</td>\n",
       "      <td>33</td>\n",
       "      <td>8536</td>\n",
       "    </tr>\n",
       "  </tbody>\n",
       "</table>\n",
       "</div>"
      ],
      "text/plain": [
       "   Customer ID Gender  Age  Income (USD/Month)\n",
       "0        29290   Male   28               10813\n",
       "1        27703   Male   27                9237\n",
       "2        28712   Male   53               11242\n",
       "3        28020   Male   23               23327\n",
       "4        27182   Male   33                8536"
      ]
     },
     "execution_count": 9,
     "metadata": {},
     "output_type": "execute_result"
    }
   ],
   "source": [
    "cust_df.head()"
   ]
  },
  {
   "cell_type": "code",
   "execution_count": 10,
   "id": "abbd2d9b",
   "metadata": {},
   "outputs": [
    {
     "name": "stdout",
     "output_type": "stream",
     "text": [
      "<class 'pandas.core.frame.DataFrame'>\n",
      "RangeIndex: 49171 entries, 0 to 49170\n",
      "Data columns (total 4 columns):\n",
      " #   Column              Non-Null Count  Dtype \n",
      "---  ------              --------------  ----- \n",
      " 0   Customer ID         49171 non-null  int64 \n",
      " 1   Gender              49171 non-null  object\n",
      " 2   Age                 49171 non-null  int64 \n",
      " 3   Income (USD/Month)  49171 non-null  int64 \n",
      "dtypes: int64(3), object(1)\n",
      "memory usage: 1.5+ MB\n"
     ]
    }
   ],
   "source": [
    "cust_df.info()"
   ]
  },
  {
   "cell_type": "code",
   "execution_count": 11,
   "id": "dc26fe74",
   "metadata": {},
   "outputs": [
    {
     "data": {
      "text/plain": [
       "Customer ID           0\n",
       "Gender                0\n",
       "Age                   0\n",
       "Income (USD/Month)    0\n",
       "dtype: int64"
      ]
     },
     "execution_count": 11,
     "metadata": {},
     "output_type": "execute_result"
    }
   ],
   "source": [
    "cust_df.isnull().sum()"
   ]
  },
  {
   "cell_type": "code",
   "execution_count": 12,
   "id": "709af0f8",
   "metadata": {},
   "outputs": [
    {
     "data": {
      "text/html": [
       "<div>\n",
       "<style scoped>\n",
       "    .dataframe tbody tr th:only-of-type {\n",
       "        vertical-align: middle;\n",
       "    }\n",
       "\n",
       "    .dataframe tbody tr th {\n",
       "        vertical-align: top;\n",
       "    }\n",
       "\n",
       "    .dataframe thead th {\n",
       "        text-align: right;\n",
       "    }\n",
       "</style>\n",
       "<table border=\"1\" class=\"dataframe\">\n",
       "  <thead>\n",
       "    <tr style=\"text-align: right;\">\n",
       "      <th></th>\n",
       "      <th>City</th>\n",
       "      <th>Population</th>\n",
       "      <th>Users</th>\n",
       "    </tr>\n",
       "  </thead>\n",
       "  <tbody>\n",
       "    <tr>\n",
       "      <th>0</th>\n",
       "      <td>NEW YORK NY</td>\n",
       "      <td>8,405,837</td>\n",
       "      <td>302,149</td>\n",
       "    </tr>\n",
       "    <tr>\n",
       "      <th>1</th>\n",
       "      <td>CHICAGO IL</td>\n",
       "      <td>1,955,130</td>\n",
       "      <td>164,468</td>\n",
       "    </tr>\n",
       "    <tr>\n",
       "      <th>2</th>\n",
       "      <td>LOS ANGELES CA</td>\n",
       "      <td>1,595,037</td>\n",
       "      <td>144,132</td>\n",
       "    </tr>\n",
       "    <tr>\n",
       "      <th>3</th>\n",
       "      <td>MIAMI FL</td>\n",
       "      <td>1,339,155</td>\n",
       "      <td>17,675</td>\n",
       "    </tr>\n",
       "    <tr>\n",
       "      <th>4</th>\n",
       "      <td>SILICON VALLEY</td>\n",
       "      <td>1,177,609</td>\n",
       "      <td>27,247</td>\n",
       "    </tr>\n",
       "  </tbody>\n",
       "</table>\n",
       "</div>"
      ],
      "text/plain": [
       "             City   Population      Users\n",
       "0     NEW YORK NY   8,405,837    302,149 \n",
       "1      CHICAGO IL   1,955,130    164,468 \n",
       "2  LOS ANGELES CA   1,595,037    144,132 \n",
       "3        MIAMI FL   1,339,155     17,675 \n",
       "4  SILICON VALLEY   1,177,609     27,247 "
      ]
     },
     "execution_count": 12,
     "metadata": {},
     "output_type": "execute_result"
    }
   ],
   "source": [
    "city_df.head()"
   ]
  },
  {
   "cell_type": "code",
   "execution_count": 13,
   "id": "1881d3c6",
   "metadata": {},
   "outputs": [
    {
     "name": "stdout",
     "output_type": "stream",
     "text": [
      "<class 'pandas.core.frame.DataFrame'>\n",
      "RangeIndex: 20 entries, 0 to 19\n",
      "Data columns (total 3 columns):\n",
      " #   Column      Non-Null Count  Dtype \n",
      "---  ------      --------------  ----- \n",
      " 0   City        20 non-null     object\n",
      " 1   Population  20 non-null     object\n",
      " 2   Users       20 non-null     object\n",
      "dtypes: object(3)\n",
      "memory usage: 608.0+ bytes\n"
     ]
    }
   ],
   "source": [
    "city_df.info()"
   ]
  },
  {
   "cell_type": "code",
   "execution_count": 14,
   "id": "19c41053",
   "metadata": {},
   "outputs": [
    {
     "data": {
      "text/plain": [
       "City          0\n",
       "Population    0\n",
       "Users         0\n",
       "dtype: int64"
      ]
     },
     "execution_count": 14,
     "metadata": {},
     "output_type": "execute_result"
    }
   ],
   "source": [
    "city_df.isnull().sum()"
   ]
  },
  {
   "cell_type": "code",
   "execution_count": 15,
   "id": "b484d151",
   "metadata": {},
   "outputs": [
    {
     "data": {
      "text/plain": [
       "Yellow Cab    274681\n",
       "Pink Cab       84711\n",
       "Name: Company, dtype: int64"
      ]
     },
     "execution_count": 15,
     "metadata": {},
     "output_type": "execute_result"
    }
   ],
   "source": [
    "cab_df.Company.value_counts()"
   ]
  },
  {
   "cell_type": "code",
   "execution_count": 16,
   "id": "d80c831e",
   "metadata": {},
   "outputs": [
    {
     "data": {
      "text/plain": [
       "Transaction ID      int64\n",
       "Date of Travel      int64\n",
       "Company            object\n",
       "City               object\n",
       "KM Travelled      float64\n",
       "Price Charged     float64\n",
       "Cost of Trip      float64\n",
       "dtype: object"
      ]
     },
     "execution_count": 16,
     "metadata": {},
     "output_type": "execute_result"
    }
   ],
   "source": [
    "cab_df.dtypes"
   ]
  },
  {
   "cell_type": "code",
   "execution_count": 17,
   "id": "6a60b128",
   "metadata": {},
   "outputs": [],
   "source": [
    "#changing the dates from interger to proper date format\n",
    "import datetime as dt\n",
    "\n",
    "cab_df['Date of Travel'] = pd.TimedeltaIndex(cab_df['Date of Travel'], unit='d') + dt.datetime(1899, 12, 30)\n"
   ]
  },
  {
   "cell_type": "code",
   "execution_count": 18,
   "id": "35740159",
   "metadata": {},
   "outputs": [
    {
     "data": {
      "text/html": [
       "<div>\n",
       "<style scoped>\n",
       "    .dataframe tbody tr th:only-of-type {\n",
       "        vertical-align: middle;\n",
       "    }\n",
       "\n",
       "    .dataframe tbody tr th {\n",
       "        vertical-align: top;\n",
       "    }\n",
       "\n",
       "    .dataframe thead th {\n",
       "        text-align: right;\n",
       "    }\n",
       "</style>\n",
       "<table border=\"1\" class=\"dataframe\">\n",
       "  <thead>\n",
       "    <tr style=\"text-align: right;\">\n",
       "      <th></th>\n",
       "      <th>Transaction ID</th>\n",
       "      <th>Date of Travel</th>\n",
       "      <th>Company</th>\n",
       "      <th>City</th>\n",
       "      <th>KM Travelled</th>\n",
       "      <th>Price Charged</th>\n",
       "      <th>Cost of Trip</th>\n",
       "    </tr>\n",
       "  </thead>\n",
       "  <tbody>\n",
       "    <tr>\n",
       "      <th>0</th>\n",
       "      <td>10000011</td>\n",
       "      <td>2016-01-08</td>\n",
       "      <td>Pink Cab</td>\n",
       "      <td>ATLANTA GA</td>\n",
       "      <td>30.45</td>\n",
       "      <td>370.95</td>\n",
       "      <td>313.635</td>\n",
       "    </tr>\n",
       "    <tr>\n",
       "      <th>1</th>\n",
       "      <td>10000012</td>\n",
       "      <td>2016-01-06</td>\n",
       "      <td>Pink Cab</td>\n",
       "      <td>ATLANTA GA</td>\n",
       "      <td>28.62</td>\n",
       "      <td>358.52</td>\n",
       "      <td>334.854</td>\n",
       "    </tr>\n",
       "    <tr>\n",
       "      <th>2</th>\n",
       "      <td>10000013</td>\n",
       "      <td>2016-01-02</td>\n",
       "      <td>Pink Cab</td>\n",
       "      <td>ATLANTA GA</td>\n",
       "      <td>9.04</td>\n",
       "      <td>125.20</td>\n",
       "      <td>97.632</td>\n",
       "    </tr>\n",
       "    <tr>\n",
       "      <th>3</th>\n",
       "      <td>10000014</td>\n",
       "      <td>2016-01-07</td>\n",
       "      <td>Pink Cab</td>\n",
       "      <td>ATLANTA GA</td>\n",
       "      <td>33.17</td>\n",
       "      <td>377.40</td>\n",
       "      <td>351.602</td>\n",
       "    </tr>\n",
       "    <tr>\n",
       "      <th>4</th>\n",
       "      <td>10000015</td>\n",
       "      <td>2016-01-03</td>\n",
       "      <td>Pink Cab</td>\n",
       "      <td>ATLANTA GA</td>\n",
       "      <td>8.73</td>\n",
       "      <td>114.62</td>\n",
       "      <td>97.776</td>\n",
       "    </tr>\n",
       "  </tbody>\n",
       "</table>\n",
       "</div>"
      ],
      "text/plain": [
       "   Transaction ID Date of Travel   Company        City  KM Travelled  \\\n",
       "0        10000011     2016-01-08  Pink Cab  ATLANTA GA         30.45   \n",
       "1        10000012     2016-01-06  Pink Cab  ATLANTA GA         28.62   \n",
       "2        10000013     2016-01-02  Pink Cab  ATLANTA GA          9.04   \n",
       "3        10000014     2016-01-07  Pink Cab  ATLANTA GA         33.17   \n",
       "4        10000015     2016-01-03  Pink Cab  ATLANTA GA          8.73   \n",
       "\n",
       "   Price Charged  Cost of Trip  \n",
       "0         370.95       313.635  \n",
       "1         358.52       334.854  \n",
       "2         125.20        97.632  \n",
       "3         377.40       351.602  \n",
       "4         114.62        97.776  "
      ]
     },
     "execution_count": 18,
     "metadata": {},
     "output_type": "execute_result"
    }
   ],
   "source": [
    "cab_df.head()"
   ]
  },
  {
   "cell_type": "code",
   "execution_count": 19,
   "id": "2977c041",
   "metadata": {},
   "outputs": [
    {
     "data": {
      "text/html": [
       "<div>\n",
       "<style scoped>\n",
       "    .dataframe tbody tr th:only-of-type {\n",
       "        vertical-align: middle;\n",
       "    }\n",
       "\n",
       "    .dataframe tbody tr th {\n",
       "        vertical-align: top;\n",
       "    }\n",
       "\n",
       "    .dataframe thead th {\n",
       "        text-align: right;\n",
       "    }\n",
       "</style>\n",
       "<table border=\"1\" class=\"dataframe\">\n",
       "  <thead>\n",
       "    <tr style=\"text-align: right;\">\n",
       "      <th></th>\n",
       "      <th>Transaction ID</th>\n",
       "      <th>KM Travelled</th>\n",
       "      <th>Price Charged</th>\n",
       "      <th>Cost of Trip</th>\n",
       "    </tr>\n",
       "  </thead>\n",
       "  <tbody>\n",
       "    <tr>\n",
       "      <th>count</th>\n",
       "      <td>3.593920e+05</td>\n",
       "      <td>359392.000000</td>\n",
       "      <td>359392.000000</td>\n",
       "      <td>359392.000000</td>\n",
       "    </tr>\n",
       "    <tr>\n",
       "      <th>mean</th>\n",
       "      <td>1.022076e+07</td>\n",
       "      <td>22.567254</td>\n",
       "      <td>423.443311</td>\n",
       "      <td>286.190113</td>\n",
       "    </tr>\n",
       "    <tr>\n",
       "      <th>std</th>\n",
       "      <td>1.268058e+05</td>\n",
       "      <td>12.233526</td>\n",
       "      <td>274.378911</td>\n",
       "      <td>157.993661</td>\n",
       "    </tr>\n",
       "    <tr>\n",
       "      <th>min</th>\n",
       "      <td>1.000001e+07</td>\n",
       "      <td>1.900000</td>\n",
       "      <td>15.600000</td>\n",
       "      <td>19.000000</td>\n",
       "    </tr>\n",
       "    <tr>\n",
       "      <th>25%</th>\n",
       "      <td>1.011081e+07</td>\n",
       "      <td>12.000000</td>\n",
       "      <td>206.437500</td>\n",
       "      <td>151.200000</td>\n",
       "    </tr>\n",
       "    <tr>\n",
       "      <th>50%</th>\n",
       "      <td>1.022104e+07</td>\n",
       "      <td>22.440000</td>\n",
       "      <td>386.360000</td>\n",
       "      <td>282.480000</td>\n",
       "    </tr>\n",
       "    <tr>\n",
       "      <th>75%</th>\n",
       "      <td>1.033094e+07</td>\n",
       "      <td>32.960000</td>\n",
       "      <td>583.660000</td>\n",
       "      <td>413.683200</td>\n",
       "    </tr>\n",
       "    <tr>\n",
       "      <th>max</th>\n",
       "      <td>1.044011e+07</td>\n",
       "      <td>48.000000</td>\n",
       "      <td>2048.030000</td>\n",
       "      <td>691.200000</td>\n",
       "    </tr>\n",
       "  </tbody>\n",
       "</table>\n",
       "</div>"
      ],
      "text/plain": [
       "       Transaction ID   KM Travelled  Price Charged   Cost of Trip\n",
       "count    3.593920e+05  359392.000000  359392.000000  359392.000000\n",
       "mean     1.022076e+07      22.567254     423.443311     286.190113\n",
       "std      1.268058e+05      12.233526     274.378911     157.993661\n",
       "min      1.000001e+07       1.900000      15.600000      19.000000\n",
       "25%      1.011081e+07      12.000000     206.437500     151.200000\n",
       "50%      1.022104e+07      22.440000     386.360000     282.480000\n",
       "75%      1.033094e+07      32.960000     583.660000     413.683200\n",
       "max      1.044011e+07      48.000000    2048.030000     691.200000"
      ]
     },
     "execution_count": 19,
     "metadata": {},
     "output_type": "execute_result"
    }
   ],
   "source": [
    "cab_df.describe()"
   ]
  },
  {
   "cell_type": "markdown",
   "id": "f71dc8b2",
   "metadata": {},
   "source": [
    "# Hypothesis 1: The Distribution of Profit of 2 cab companies:\n"
   ]
  },
  {
   "cell_type": "code",
   "execution_count": 20,
   "id": "c62fc9ff",
   "metadata": {},
   "outputs": [],
   "source": [
    "# creating Profit column to know exact % of profit per trip\n",
    "cab_df['Profit']= cab_df['Price Charged'] - cab_df['Cost of Trip']\n",
    "cab_df['Profit per KM']= cab_df['Profit']/ cab_df['KM Travelled']\n"
   ]
  },
  {
   "cell_type": "code",
   "execution_count": 21,
   "id": "ca8627f9",
   "metadata": {},
   "outputs": [
    {
     "data": {
      "text/html": [
       "<div>\n",
       "<style scoped>\n",
       "    .dataframe tbody tr th:only-of-type {\n",
       "        vertical-align: middle;\n",
       "    }\n",
       "\n",
       "    .dataframe tbody tr th {\n",
       "        vertical-align: top;\n",
       "    }\n",
       "\n",
       "    .dataframe thead th {\n",
       "        text-align: right;\n",
       "    }\n",
       "</style>\n",
       "<table border=\"1\" class=\"dataframe\">\n",
       "  <thead>\n",
       "    <tr style=\"text-align: right;\">\n",
       "      <th></th>\n",
       "      <th>Transaction ID</th>\n",
       "      <th>Date of Travel</th>\n",
       "      <th>Company</th>\n",
       "      <th>City</th>\n",
       "      <th>KM Travelled</th>\n",
       "      <th>Price Charged</th>\n",
       "      <th>Cost of Trip</th>\n",
       "      <th>Profit</th>\n",
       "      <th>Profit per KM</th>\n",
       "      <th>Profit %</th>\n",
       "    </tr>\n",
       "  </thead>\n",
       "  <tbody>\n",
       "    <tr>\n",
       "      <th>0</th>\n",
       "      <td>10000011</td>\n",
       "      <td>2016-01-08</td>\n",
       "      <td>Pink Cab</td>\n",
       "      <td>ATLANTA GA</td>\n",
       "      <td>30.45</td>\n",
       "      <td>370.95</td>\n",
       "      <td>313.635</td>\n",
       "      <td>57.315</td>\n",
       "      <td>1.882266</td>\n",
       "      <td>15.450869</td>\n",
       "    </tr>\n",
       "    <tr>\n",
       "      <th>1</th>\n",
       "      <td>10000012</td>\n",
       "      <td>2016-01-06</td>\n",
       "      <td>Pink Cab</td>\n",
       "      <td>ATLANTA GA</td>\n",
       "      <td>28.62</td>\n",
       "      <td>358.52</td>\n",
       "      <td>334.854</td>\n",
       "      <td>23.666</td>\n",
       "      <td>0.826904</td>\n",
       "      <td>6.601026</td>\n",
       "    </tr>\n",
       "    <tr>\n",
       "      <th>2</th>\n",
       "      <td>10000013</td>\n",
       "      <td>2016-01-02</td>\n",
       "      <td>Pink Cab</td>\n",
       "      <td>ATLANTA GA</td>\n",
       "      <td>9.04</td>\n",
       "      <td>125.20</td>\n",
       "      <td>97.632</td>\n",
       "      <td>27.568</td>\n",
       "      <td>3.049558</td>\n",
       "      <td>22.019169</td>\n",
       "    </tr>\n",
       "    <tr>\n",
       "      <th>3</th>\n",
       "      <td>10000014</td>\n",
       "      <td>2016-01-07</td>\n",
       "      <td>Pink Cab</td>\n",
       "      <td>ATLANTA GA</td>\n",
       "      <td>33.17</td>\n",
       "      <td>377.40</td>\n",
       "      <td>351.602</td>\n",
       "      <td>25.798</td>\n",
       "      <td>0.777751</td>\n",
       "      <td>6.835718</td>\n",
       "    </tr>\n",
       "    <tr>\n",
       "      <th>4</th>\n",
       "      <td>10000015</td>\n",
       "      <td>2016-01-03</td>\n",
       "      <td>Pink Cab</td>\n",
       "      <td>ATLANTA GA</td>\n",
       "      <td>8.73</td>\n",
       "      <td>114.62</td>\n",
       "      <td>97.776</td>\n",
       "      <td>16.844</td>\n",
       "      <td>1.929439</td>\n",
       "      <td>14.695516</td>\n",
       "    </tr>\n",
       "  </tbody>\n",
       "</table>\n",
       "</div>"
      ],
      "text/plain": [
       "   Transaction ID Date of Travel   Company        City  KM Travelled  \\\n",
       "0        10000011     2016-01-08  Pink Cab  ATLANTA GA         30.45   \n",
       "1        10000012     2016-01-06  Pink Cab  ATLANTA GA         28.62   \n",
       "2        10000013     2016-01-02  Pink Cab  ATLANTA GA          9.04   \n",
       "3        10000014     2016-01-07  Pink Cab  ATLANTA GA         33.17   \n",
       "4        10000015     2016-01-03  Pink Cab  ATLANTA GA          8.73   \n",
       "\n",
       "   Price Charged  Cost of Trip  Profit  Profit per KM   Profit %  \n",
       "0         370.95       313.635  57.315       1.882266  15.450869  \n",
       "1         358.52       334.854  23.666       0.826904   6.601026  \n",
       "2         125.20        97.632  27.568       3.049558  22.019169  \n",
       "3         377.40       351.602  25.798       0.777751   6.835718  \n",
       "4         114.62        97.776  16.844       1.929439  14.695516  "
      ]
     },
     "execution_count": 21,
     "metadata": {},
     "output_type": "execute_result"
    }
   ],
   "source": [
    "\n",
    "cab_df['Profit %'] =cab_df['Profit']/cab_df['Price Charged']*100\n",
    "cab_df.head()"
   ]
  },
  {
   "cell_type": "code",
   "execution_count": 22,
   "id": "c072f230",
   "metadata": {},
   "outputs": [
    {
     "data": {
      "text/html": [
       "<div>\n",
       "<style scoped>\n",
       "    .dataframe tbody tr th:only-of-type {\n",
       "        vertical-align: middle;\n",
       "    }\n",
       "\n",
       "    .dataframe tbody tr th {\n",
       "        vertical-align: top;\n",
       "    }\n",
       "\n",
       "    .dataframe thead th {\n",
       "        text-align: right;\n",
       "    }\n",
       "</style>\n",
       "<table border=\"1\" class=\"dataframe\">\n",
       "  <thead>\n",
       "    <tr style=\"text-align: right;\">\n",
       "      <th></th>\n",
       "      <th>Transaction ID</th>\n",
       "      <th>KM Travelled</th>\n",
       "      <th>Price Charged</th>\n",
       "      <th>Cost of Trip</th>\n",
       "      <th>Profit</th>\n",
       "      <th>Profit per KM</th>\n",
       "      <th>Profit %</th>\n",
       "    </tr>\n",
       "    <tr>\n",
       "      <th>Company</th>\n",
       "      <th></th>\n",
       "      <th></th>\n",
       "      <th></th>\n",
       "      <th></th>\n",
       "      <th></th>\n",
       "      <th></th>\n",
       "      <th></th>\n",
       "    </tr>\n",
       "  </thead>\n",
       "  <tbody>\n",
       "    <tr>\n",
       "      <th>Pink Cab</th>\n",
       "      <td>1.022394e+07</td>\n",
       "      <td>22.559917</td>\n",
       "      <td>310.800856</td>\n",
       "      <td>248.148682</td>\n",
       "      <td>62.652174</td>\n",
       "      <td>2.769908</td>\n",
       "      <td>17.380833</td>\n",
       "    </tr>\n",
       "    <tr>\n",
       "      <th>Yellow Cab</th>\n",
       "      <td>1.021978e+07</td>\n",
       "      <td>22.569517</td>\n",
       "      <td>458.181990</td>\n",
       "      <td>297.922004</td>\n",
       "      <td>160.259986</td>\n",
       "      <td>7.105508</td>\n",
       "      <td>30.134544</td>\n",
       "    </tr>\n",
       "  </tbody>\n",
       "</table>\n",
       "</div>"
      ],
      "text/plain": [
       "            Transaction ID  KM Travelled  Price Charged  Cost of Trip  \\\n",
       "Company                                                                 \n",
       "Pink Cab      1.022394e+07     22.559917     310.800856    248.148682   \n",
       "Yellow Cab    1.021978e+07     22.569517     458.181990    297.922004   \n",
       "\n",
       "                Profit  Profit per KM   Profit %  \n",
       "Company                                           \n",
       "Pink Cab     62.652174       2.769908  17.380833  \n",
       "Yellow Cab  160.259986       7.105508  30.134544  "
      ]
     },
     "execution_count": 22,
     "metadata": {},
     "output_type": "execute_result"
    }
   ],
   "source": [
    "#groupby company to know the mean profit of company pink and yellow\n",
    "company_summary= cab_df.groupby('Company').mean()\n",
    "company_summary"
   ]
  },
  {
   "cell_type": "code",
   "execution_count": 23,
   "id": "a68963dc",
   "metadata": {},
   "outputs": [
    {
     "data": {
      "text/plain": [
       "[Text(0.5, 1.0, 'Profit Distribution')]"
      ]
     },
     "execution_count": 23,
     "metadata": {},
     "output_type": "execute_result"
    },
    {
     "data": {
      "image/png": "[encoded data removed]",
      "text/plain": [
       "<Figure size 640x480 with 1 Axes>"
      ]
     },
     "metadata": {},
     "output_type": "display_data"
    }
   ],
   "source": [
    "# create box plot\n",
    "palette = {'Pink Cab':'Magenta',\n",
    "          'Yellow Cab':'Yellow'}\n",
    "sns.boxplot(data=cab_df,x='Company',y='Profit', palette=palette).set(title='Profit Distribution')"
   ]
  },
  {
   "cell_type": "markdown",
   "id": "a73c7755",
   "metadata": {},
   "source": [
    "The outcomes shows that Yellow cab has higher Median Profit than Pink Cab. So, Yellow Cab is significantly more profitable"
   ]
  },
  {
   "cell_type": "code",
   "execution_count": 24,
   "id": "a80fa151",
   "metadata": {},
   "outputs": [
    {
     "data": {
      "image/png": "[encoded data removed]",
      "text/plain": [
       "<Figure size 640x480 with 2 Axes>"
      ]
     },
     "metadata": {},
     "output_type": "display_data"
    }
   ],
   "source": [
    "# Overall Average profit by both distributions\n",
    "avg_profits = cab_df.groupby(['Company']).mean()['Profit']\n",
    "plt.subplot(1, 2, 1)\n",
    "plot1 = avg_profits.plot(kind='bar', ylabel = \"Profit\", title = \"Average Profit\", color = [\"magenta\", \"gold\"])\n",
    "for bar in plot1.patches:\n",
    "    plot1.annotate(format(bar.get_height(), '.2f'),\n",
    "                   (bar.get_x() + bar.get_width() / 2,\n",
    "                    bar.get_height()), ha='center', va='center',\n",
    "                   size=9, xytext=(0, 5),\n",
    "                   textcoords='offset points')\n",
    "\n",
    "plt.xticks(rotation=0)\n",
    "\n",
    "\n",
    "# Average profit per KM travelled\n",
    "avg_profits = cab_df.groupby(['Company']).mean()['Profit per KM']\n",
    "plt.subplot(1, 2, 2)\n",
    "plot2 = avg_profits.plot(kind='bar', ylabel = \"Profit per KM Travelled\", title = \"Average Profit per KM Travelled\", color = [\"fuchsia\", \"gold\"])\n",
    "for bar in plot2.patches:\n",
    "    plot2.annotate(format(bar.get_height(), '.2f'),\n",
    "                   (bar.get_x() + bar.get_width() / 2,\n",
    "                    bar.get_height()), ha='center', va='center',\n",
    "                   size=9, xytext=(0, 5),\n",
    "                   textcoords='offset points')\n",
    "plt.xticks(rotation=0)\n",
    "plt.subplots_adjust(right=1.5);"
   ]
  },
  {
   "cell_type": "markdown",
   "id": "40443ebb",
   "metadata": {},
   "source": [
    "The outcomes of barchart shows that Yellow cab 2.5 times overall average profit and average profit per km travelled as compared to the Pink cab.\n",
    "Our hypothesis that the distrbution of profits is different for the two cab companes is true."
   ]
  },
  {
   "cell_type": "markdown",
   "id": "3b4ec1f5",
   "metadata": {},
   "source": [
    "# Hypothesis 2: Is there any seasonality?\n"
   ]
  },
  {
   "cell_type": "code",
   "execution_count": 25,
   "id": "06b3bb66",
   "metadata": {},
   "outputs": [
    {
     "data": {
      "text/html": [
       "<div>\n",
       "<style scoped>\n",
       "    .dataframe tbody tr th:only-of-type {\n",
       "        vertical-align: middle;\n",
       "    }\n",
       "\n",
       "    .dataframe tbody tr th {\n",
       "        vertical-align: top;\n",
       "    }\n",
       "\n",
       "    .dataframe thead th {\n",
       "        text-align: right;\n",
       "    }\n",
       "</style>\n",
       "<table border=\"1\" class=\"dataframe\">\n",
       "  <thead>\n",
       "    <tr style=\"text-align: right;\">\n",
       "      <th></th>\n",
       "      <th>Transaction ID</th>\n",
       "      <th>Date of Travel</th>\n",
       "      <th>Company</th>\n",
       "      <th>City</th>\n",
       "      <th>KM Travelled</th>\n",
       "      <th>Price Charged</th>\n",
       "      <th>Cost of Trip</th>\n",
       "      <th>Profit</th>\n",
       "      <th>Profit per KM</th>\n",
       "      <th>Profit %</th>\n",
       "      <th>month_year</th>\n",
       "    </tr>\n",
       "  </thead>\n",
       "  <tbody>\n",
       "    <tr>\n",
       "      <th>0</th>\n",
       "      <td>10000011</td>\n",
       "      <td>2016-01-08</td>\n",
       "      <td>Pink Cab</td>\n",
       "      <td>ATLANTA GA</td>\n",
       "      <td>30.45</td>\n",
       "      <td>370.95</td>\n",
       "      <td>313.635</td>\n",
       "      <td>57.315</td>\n",
       "      <td>1.882266</td>\n",
       "      <td>15.450869</td>\n",
       "      <td>2016-01</td>\n",
       "    </tr>\n",
       "    <tr>\n",
       "      <th>1</th>\n",
       "      <td>10000012</td>\n",
       "      <td>2016-01-06</td>\n",
       "      <td>Pink Cab</td>\n",
       "      <td>ATLANTA GA</td>\n",
       "      <td>28.62</td>\n",
       "      <td>358.52</td>\n",
       "      <td>334.854</td>\n",
       "      <td>23.666</td>\n",
       "      <td>0.826904</td>\n",
       "      <td>6.601026</td>\n",
       "      <td>2016-01</td>\n",
       "    </tr>\n",
       "    <tr>\n",
       "      <th>2</th>\n",
       "      <td>10000013</td>\n",
       "      <td>2016-01-02</td>\n",
       "      <td>Pink Cab</td>\n",
       "      <td>ATLANTA GA</td>\n",
       "      <td>9.04</td>\n",
       "      <td>125.20</td>\n",
       "      <td>97.632</td>\n",
       "      <td>27.568</td>\n",
       "      <td>3.049558</td>\n",
       "      <td>22.019169</td>\n",
       "      <td>2016-01</td>\n",
       "    </tr>\n",
       "    <tr>\n",
       "      <th>3</th>\n",
       "      <td>10000014</td>\n",
       "      <td>2016-01-07</td>\n",
       "      <td>Pink Cab</td>\n",
       "      <td>ATLANTA GA</td>\n",
       "      <td>33.17</td>\n",
       "      <td>377.40</td>\n",
       "      <td>351.602</td>\n",
       "      <td>25.798</td>\n",
       "      <td>0.777751</td>\n",
       "      <td>6.835718</td>\n",
       "      <td>2016-01</td>\n",
       "    </tr>\n",
       "    <tr>\n",
       "      <th>4</th>\n",
       "      <td>10000015</td>\n",
       "      <td>2016-01-03</td>\n",
       "      <td>Pink Cab</td>\n",
       "      <td>ATLANTA GA</td>\n",
       "      <td>8.73</td>\n",
       "      <td>114.62</td>\n",
       "      <td>97.776</td>\n",
       "      <td>16.844</td>\n",
       "      <td>1.929439</td>\n",
       "      <td>14.695516</td>\n",
       "      <td>2016-01</td>\n",
       "    </tr>\n",
       "  </tbody>\n",
       "</table>\n",
       "</div>"
      ],
      "text/plain": [
       "   Transaction ID Date of Travel   Company        City  KM Travelled  \\\n",
       "0        10000011     2016-01-08  Pink Cab  ATLANTA GA         30.45   \n",
       "1        10000012     2016-01-06  Pink Cab  ATLANTA GA         28.62   \n",
       "2        10000013     2016-01-02  Pink Cab  ATLANTA GA          9.04   \n",
       "3        10000014     2016-01-07  Pink Cab  ATLANTA GA         33.17   \n",
       "4        10000015     2016-01-03  Pink Cab  ATLANTA GA          8.73   \n",
       "\n",
       "   Price Charged  Cost of Trip  Profit  Profit per KM   Profit % month_year  \n",
       "0         370.95       313.635  57.315       1.882266  15.450869    2016-01  \n",
       "1         358.52       334.854  23.666       0.826904   6.601026    2016-01  \n",
       "2         125.20        97.632  27.568       3.049558  22.019169    2016-01  \n",
       "3         377.40       351.602  25.798       0.777751   6.835718    2016-01  \n",
       "4         114.62        97.776  16.844       1.929439  14.695516    2016-01  "
      ]
     },
     "execution_count": 25,
     "metadata": {},
     "output_type": "execute_result"
    }
   ],
   "source": [
    "cab_df['month_year']= pd.to_datetime(cab_df['Date of Travel']).dt.to_period('M')\n",
    "cab_df.head()"
   ]
  },
  {
   "cell_type": "code",
   "execution_count": 26,
   "id": "e98c2b99",
   "metadata": {},
   "outputs": [
    {
     "data": {
      "image/png": "[encoded data removed]",
      "text/plain": [
       "<Figure size 1000x600 with 1 Axes>"
      ]
     },
     "metadata": {},
     "output_type": "display_data"
    }
   ],
   "source": [
    "fig=plt.figure(figsize=(10,6))\n",
    "palette = {'Pink Cab':'Magenta',\n",
    "          'Yellow Cab':'Yellow'}\n",
    "sns.barplot(data=cab_df,x='month_year',y='Profit', palette=palette,hue='Company').set(title='Seasonal Distribution')\n",
    "fig.autofmt_xdate()"
   ]
  },
  {
   "cell_type": "markdown",
   "id": "c662e952",
   "metadata": {},
   "source": [
    "The outcomes show that they are opposite of eachother in terms of seasonal profit.\n",
    "Yellow cab profits more in month between May and June whereas\n",
    "Pink Cab profits between January and March.\n",
    "SO our hypothesis is clear as pattern changes frequently with season, i.e. Seasonality do have effect on the profit."
   ]
  },
  {
   "cell_type": "markdown",
   "id": "bdb2e198",
   "metadata": {},
   "source": [
    "# Hypothesis 3: Proportion of Customers with City\n"
   ]
  },
  {
   "cell_type": "code",
   "execution_count": 27,
   "id": "966f8c5f",
   "metadata": {},
   "outputs": [
    {
     "data": {
      "text/plain": [
       "Yellow Cab    274681\n",
       "Pink Cab       84711\n",
       "Name: Company, dtype: int64"
      ]
     },
     "execution_count": 27,
     "metadata": {},
     "output_type": "execute_result"
    }
   ],
   "source": [
    "cab_df.Company.value_counts()"
   ]
  },
  {
   "cell_type": "code",
   "execution_count": 28,
   "id": "35287f7e",
   "metadata": {},
   "outputs": [
    {
     "data": {
      "text/plain": [
       "NEW YORK NY       99885\n",
       "CHICAGO IL        56625\n",
       "LOS ANGELES CA    48033\n",
       "WASHINGTON DC     43737\n",
       "BOSTON MA         29692\n",
       "SAN DIEGO CA      20488\n",
       "SILICON VALLEY     8519\n",
       "SEATTLE WA         7997\n",
       "ATLANTA GA         7557\n",
       "DALLAS TX          7017\n",
       "MIAMI FL           6454\n",
       "AUSTIN TX          4896\n",
       "ORANGE COUNTY      3982\n",
       "DENVER CO          3825\n",
       "NASHVILLE TN       3010\n",
       "SACRAMENTO CA      2367\n",
       "PHOENIX AZ         2064\n",
       "TUCSON AZ          1931\n",
       "PITTSBURGH PA      1313\n",
       "Name: City, dtype: int64"
      ]
     },
     "execution_count": 28,
     "metadata": {},
     "output_type": "execute_result"
    }
   ],
   "source": [
    "cab_df.City.value_counts()"
   ]
  },
  {
   "cell_type": "code",
   "execution_count": 29,
   "id": "8c381169",
   "metadata": {},
   "outputs": [
    {
     "data": {
      "text/plain": [
       "CHICAGO IL        7899\n",
       "BOSTON MA         3748\n",
       "WASHINGTON DC     3202\n",
       "LOS ANGELES CA    3028\n",
       "SAN DIEGO CA      1265\n",
       "SEATTLE WA         826\n",
       "NASHVILLE TN       693\n",
       "DALLAS TX          542\n",
       "SACRAMENTO CA      517\n",
       "DENVER CO          499\n",
       "NEW YORK NY        454\n",
       "ATLANTA GA         363\n",
       "MIAMI FL           338\n",
       "PITTSBURGH PA      336\n",
       "TUCSON AZ          277\n",
       "PHOENIX AZ         249\n",
       "AUSTIN TX          240\n",
       "ORANGE COUNTY      230\n",
       "SILICON VALLEY     117\n",
       "Name: City, dtype: int64"
      ]
     },
     "execution_count": 29,
     "metadata": {},
     "output_type": "execute_result"
    }
   ],
   "source": [
    "profit_df = cab_df[cab_df['Profit'] <= 0]\n",
    "profit_df.City.value_counts()"
   ]
  },
  {
   "cell_type": "code",
   "execution_count": 30,
   "id": "f6aff0bb",
   "metadata": {},
   "outputs": [
    {
     "data": {
      "text/plain": [
       "[1762,\n",
       " 1868,\n",
       " 5186,\n",
       " 9361,\n",
       " 1380,\n",
       " 1394,\n",
       " 19865,\n",
       " 2002,\n",
       " 1841,\n",
       " 13967,\n",
       " 1513,\n",
       " 864,\n",
       " 682,\n",
       " 1334,\n",
       " 10672,\n",
       " 2732,\n",
       " 3797,\n",
       " 799,\n",
       " 3692]"
      ]
     },
     "execution_count": 30,
     "metadata": {},
     "output_type": "execute_result"
    }
   ],
   "source": [
    "def cab_separator(df, City):\n",
    "    city_df = df[df['City'] == City]\n",
    "    pink = city_df.Company.value_counts()['Pink Cab']\n",
    "    yellow = city_df.Company.value_counts()['Yellow Cab']\n",
    "    return pink,yellow\n",
    "city_list = list(cab_df['City'].unique())\n",
    "pink_list = []\n",
    "yellow_list = []\n",
    "for City in city_list:\n",
    "    pink,yellow = cab_separator(cab_df, City)\n",
    "    pink_list.append(pink)\n",
    "    yellow_list.append(yellow)\n",
    "pink_list"
   ]
  },
  {
   "cell_type": "code",
   "execution_count": 31,
   "id": "55ba7b72",
   "metadata": {},
   "outputs": [
    {
     "data": {
      "text/plain": [
       "<matplotlib.legend.Legend at 0x2d52053b700>"
      ]
     },
     "execution_count": 31,
     "metadata": {},
     "output_type": "execute_result"
    },
    {
     "data": {
      "image/png": "[encoded data removed]",
      "text/plain": [
       "<Figure size 2400x1600 with 1 Axes>"
      ]
     },
     "metadata": {},
     "output_type": "display_data"
    }
   ],
   "source": [
    "x = np.arange(19)\n",
    "width = 0.40\n",
    "plt.figure(figsize=(30, 20), dpi=80)\n",
    "plt.bar(x, yellow_list, width, color='yellow')\n",
    "plt.bar(x, pink_list, width, color='pink')\n",
    "\n",
    "plt.xticks(x, city_list, rotation=45, fontsize=15)\n",
    "plt.yticks(fontsize=20)\n",
    "plt.xlabel(\"Cities\", fontsize=15)\n",
    "plt.ylabel('Customers', rotation=360, fontsize=20)\n",
    "plt.title('Customer in each City', fontsize=30)\n",
    "plt.legend(['Yellow','Pink'], prop={'size':20}, fontsize=15)"
   ]
  },
  {
   "cell_type": "markdown",
   "id": "d4df441d",
   "metadata": {},
   "source": [
    "The outcomes of barchart shows that there are more customers from Yellow Cab in most of the cities such as New York, Chicago, Washington as compared to pink cab company which has highest only in LA. Thus our hypothesis is true the proportion of cusotmers in cities is higher for yellow cab company."
   ]
  },
  {
   "cell_type": "markdown",
   "id": "f13b19b4",
   "metadata": {},
   "source": [
    "# Hypothesis 4: Different genders prefer different cabs"
   ]
  },
  {
   "cell_type": "code",
   "execution_count": 32,
   "id": "dde922a3",
   "metadata": {},
   "outputs": [],
   "source": [
    "# joining desired df to obtain the output\n",
    "df1= cab_df.merge(transac_df, on ='Transaction ID')\n",
    "df2= df1.merge(cust_df, on= 'Customer ID')"
   ]
  },
  {
   "cell_type": "code",
   "execution_count": 33,
   "id": "cd63a8d4",
   "metadata": {},
   "outputs": [
    {
     "data": {
      "text/html": [
       "<div>\n",
       "<style scoped>\n",
       "    .dataframe tbody tr th:only-of-type {\n",
       "        vertical-align: middle;\n",
       "    }\n",
       "\n",
       "    .dataframe tbody tr th {\n",
       "        vertical-align: top;\n",
       "    }\n",
       "\n",
       "    .dataframe thead th {\n",
       "        text-align: right;\n",
       "    }\n",
       "</style>\n",
       "<table border=\"1\" class=\"dataframe\">\n",
       "  <thead>\n",
       "    <tr style=\"text-align: right;\">\n",
       "      <th></th>\n",
       "      <th>Transaction ID</th>\n",
       "      <th>Date of Travel</th>\n",
       "      <th>Company</th>\n",
       "      <th>City</th>\n",
       "      <th>KM Travelled</th>\n",
       "      <th>Price Charged</th>\n",
       "      <th>Cost of Trip</th>\n",
       "      <th>Profit</th>\n",
       "      <th>Profit per KM</th>\n",
       "      <th>Profit %</th>\n",
       "      <th>month_year</th>\n",
       "      <th>Customer ID</th>\n",
       "      <th>Payment_Mode</th>\n",
       "      <th>Age</th>\n",
       "      <th>Income (USD/Month)</th>\n",
       "    </tr>\n",
       "    <tr>\n",
       "      <th>Gender</th>\n",
       "      <th></th>\n",
       "      <th></th>\n",
       "      <th></th>\n",
       "      <th></th>\n",
       "      <th></th>\n",
       "      <th></th>\n",
       "      <th></th>\n",
       "      <th></th>\n",
       "      <th></th>\n",
       "      <th></th>\n",
       "      <th></th>\n",
       "      <th></th>\n",
       "      <th></th>\n",
       "      <th></th>\n",
       "      <th></th>\n",
       "    </tr>\n",
       "  </thead>\n",
       "  <tbody>\n",
       "    <tr>\n",
       "      <th>Female</th>\n",
       "      <td>37480</td>\n",
       "      <td>37480</td>\n",
       "      <td>37480</td>\n",
       "      <td>37480</td>\n",
       "      <td>37480</td>\n",
       "      <td>37480</td>\n",
       "      <td>37480</td>\n",
       "      <td>37480</td>\n",
       "      <td>37480</td>\n",
       "      <td>37480</td>\n",
       "      <td>37480</td>\n",
       "      <td>37480</td>\n",
       "      <td>37480</td>\n",
       "      <td>37480</td>\n",
       "      <td>37480</td>\n",
       "    </tr>\n",
       "    <tr>\n",
       "      <th>Male</th>\n",
       "      <td>47231</td>\n",
       "      <td>47231</td>\n",
       "      <td>47231</td>\n",
       "      <td>47231</td>\n",
       "      <td>47231</td>\n",
       "      <td>47231</td>\n",
       "      <td>47231</td>\n",
       "      <td>47231</td>\n",
       "      <td>47231</td>\n",
       "      <td>47231</td>\n",
       "      <td>47231</td>\n",
       "      <td>47231</td>\n",
       "      <td>47231</td>\n",
       "      <td>47231</td>\n",
       "      <td>47231</td>\n",
       "    </tr>\n",
       "  </tbody>\n",
       "</table>\n",
       "</div>"
      ],
      "text/plain": [
       "        Transaction ID  Date of Travel  Company   City  KM Travelled  \\\n",
       "Gender                                                                 \n",
       "Female           37480           37480    37480  37480         37480   \n",
       "Male             47231           47231    47231  47231         47231   \n",
       "\n",
       "        Price Charged  Cost of Trip  Profit  Profit per KM  Profit %  \\\n",
       "Gender                                                                 \n",
       "Female          37480         37480   37480          37480     37480   \n",
       "Male            47231         47231   47231          47231     47231   \n",
       "\n",
       "        month_year  Customer ID  Payment_Mode    Age  Income (USD/Month)  \n",
       "Gender                                                                    \n",
       "Female       37480        37480         37480  37480               37480  \n",
       "Male         47231        47231         47231  47231               47231  "
      ]
     },
     "execution_count": 33,
     "metadata": {},
     "output_type": "execute_result"
    }
   ],
   "source": [
    "pink= df2[df2['Company'] == 'Pink Cab']\n",
    "\n",
    "pink.groupby(['Gender']).count()"
   ]
  },
  {
   "cell_type": "code",
   "execution_count": 34,
   "id": "77515479",
   "metadata": {},
   "outputs": [
    {
     "data": {
      "text/html": [
       "<div>\n",
       "<style scoped>\n",
       "    .dataframe tbody tr th:only-of-type {\n",
       "        vertical-align: middle;\n",
       "    }\n",
       "\n",
       "    .dataframe tbody tr th {\n",
       "        vertical-align: top;\n",
       "    }\n",
       "\n",
       "    .dataframe thead th {\n",
       "        text-align: right;\n",
       "    }\n",
       "</style>\n",
       "<table border=\"1\" class=\"dataframe\">\n",
       "  <thead>\n",
       "    <tr style=\"text-align: right;\">\n",
       "      <th></th>\n",
       "      <th>Transaction ID</th>\n",
       "      <th>Date of Travel</th>\n",
       "      <th>Company</th>\n",
       "      <th>City</th>\n",
       "      <th>KM Travelled</th>\n",
       "      <th>Price Charged</th>\n",
       "      <th>Cost of Trip</th>\n",
       "      <th>Profit</th>\n",
       "      <th>Profit per KM</th>\n",
       "      <th>Profit %</th>\n",
       "      <th>month_year</th>\n",
       "      <th>Customer ID</th>\n",
       "      <th>Payment_Mode</th>\n",
       "      <th>Age</th>\n",
       "      <th>Income (USD/Month)</th>\n",
       "    </tr>\n",
       "    <tr>\n",
       "      <th>Gender</th>\n",
       "      <th></th>\n",
       "      <th></th>\n",
       "      <th></th>\n",
       "      <th></th>\n",
       "      <th></th>\n",
       "      <th></th>\n",
       "      <th></th>\n",
       "      <th></th>\n",
       "      <th></th>\n",
       "      <th></th>\n",
       "      <th></th>\n",
       "      <th></th>\n",
       "      <th></th>\n",
       "      <th></th>\n",
       "      <th></th>\n",
       "    </tr>\n",
       "  </thead>\n",
       "  <tbody>\n",
       "    <tr>\n",
       "      <th>Female</th>\n",
       "      <td>116000</td>\n",
       "      <td>116000</td>\n",
       "      <td>116000</td>\n",
       "      <td>116000</td>\n",
       "      <td>116000</td>\n",
       "      <td>116000</td>\n",
       "      <td>116000</td>\n",
       "      <td>116000</td>\n",
       "      <td>116000</td>\n",
       "      <td>116000</td>\n",
       "      <td>116000</td>\n",
       "      <td>116000</td>\n",
       "      <td>116000</td>\n",
       "      <td>116000</td>\n",
       "      <td>116000</td>\n",
       "    </tr>\n",
       "    <tr>\n",
       "      <th>Male</th>\n",
       "      <td>158681</td>\n",
       "      <td>158681</td>\n",
       "      <td>158681</td>\n",
       "      <td>158681</td>\n",
       "      <td>158681</td>\n",
       "      <td>158681</td>\n",
       "      <td>158681</td>\n",
       "      <td>158681</td>\n",
       "      <td>158681</td>\n",
       "      <td>158681</td>\n",
       "      <td>158681</td>\n",
       "      <td>158681</td>\n",
       "      <td>158681</td>\n",
       "      <td>158681</td>\n",
       "      <td>158681</td>\n",
       "    </tr>\n",
       "  </tbody>\n",
       "</table>\n",
       "</div>"
      ],
      "text/plain": [
       "        Transaction ID  Date of Travel  Company    City  KM Travelled  \\\n",
       "Gender                                                                  \n",
       "Female          116000          116000   116000  116000        116000   \n",
       "Male            158681          158681   158681  158681        158681   \n",
       "\n",
       "        Price Charged  Cost of Trip  Profit  Profit per KM  Profit %  \\\n",
       "Gender                                                                 \n",
       "Female         116000        116000  116000         116000    116000   \n",
       "Male           158681        158681  158681         158681    158681   \n",
       "\n",
       "        month_year  Customer ID  Payment_Mode     Age  Income (USD/Month)  \n",
       "Gender                                                                     \n",
       "Female      116000       116000        116000  116000              116000  \n",
       "Male        158681       158681        158681  158681              158681  "
      ]
     },
     "execution_count": 34,
     "metadata": {},
     "output_type": "execute_result"
    }
   ],
   "source": [
    "yellow = df2[df2['Company'] == \"Yellow Cab\"]\n",
    "yellow.groupby(['Gender']).count()"
   ]
  },
  {
   "cell_type": "code",
   "execution_count": 35,
   "id": "b294ec24",
   "metadata": {},
   "outputs": [
    {
     "data": {
      "text/html": [
       "<div>\n",
       "<style scoped>\n",
       "    .dataframe tbody tr th:only-of-type {\n",
       "        vertical-align: middle;\n",
       "    }\n",
       "\n",
       "    .dataframe tbody tr th {\n",
       "        vertical-align: top;\n",
       "    }\n",
       "\n",
       "    .dataframe thead th {\n",
       "        text-align: right;\n",
       "    }\n",
       "</style>\n",
       "<table border=\"1\" class=\"dataframe\">\n",
       "  <thead>\n",
       "    <tr style=\"text-align: right;\">\n",
       "      <th></th>\n",
       "      <th>Pink Cab</th>\n",
       "      <th>Yellow Cab</th>\n",
       "    </tr>\n",
       "  </thead>\n",
       "  <tbody>\n",
       "    <tr>\n",
       "      <th>Female</th>\n",
       "      <td>37480</td>\n",
       "      <td>116000</td>\n",
       "    </tr>\n",
       "    <tr>\n",
       "      <th>Male</th>\n",
       "      <td>47231</td>\n",
       "      <td>158681</td>\n",
       "    </tr>\n",
       "  </tbody>\n",
       "</table>\n",
       "</div>"
      ],
      "text/plain": [
       "        Pink Cab  Yellow Cab\n",
       "Female     37480      116000\n",
       "Male       47231      158681"
      ]
     },
     "execution_count": 35,
     "metadata": {},
     "output_type": "execute_result"
    }
   ],
   "source": [
    "gender_df= pd.DataFrame({'Pink Cab':[37480, 47231], 'Yellow Cab': [116000, 158681]}, index = ['Female', 'Male'])\n",
    "gender_df"
   ]
  },
  {
   "cell_type": "code",
   "execution_count": 36,
   "id": "094ed506",
   "metadata": {},
   "outputs": [
    {
     "data": {
      "text/plain": [
       "(array([0, 1]), [Text(0, 0, 'Female'), Text(1, 0, 'Male')])"
      ]
     },
     "execution_count": 36,
     "metadata": {},
     "output_type": "execute_result"
    },
    {
     "data": {
      "image/png": "[encoded data removed]",
      "text/plain": [
       "<Figure size 640x480 with 1 Axes>"
      ]
     },
     "metadata": {},
     "output_type": "display_data"
    }
   ],
   "source": [
    "plot= gender_df.plot(kind='bar', title='Customer based on Gender',\n",
    "                     color={'Pink Cab': 'pink','Yellow Cab':'yellow'})\n",
    "plt.xticks(rotation=0)"
   ]
  },
  {
   "cell_type": "markdown",
   "id": "c5f2d7e6",
   "metadata": {},
   "source": [
    "The result of the plot shows that men make majority of customer base in both the companies. Yellow cab has larger customers irrespective of the gender. \n",
    "thus, our hypothesis is incorrect as both men and women are the customers of yellow cab than pink cab"
   ]
  },
  {
   "cell_type": "markdown",
   "id": "678cb9e0",
   "metadata": {},
   "source": [
    "# Hypothesis 5: Different age group perference on Cab\n"
   ]
  },
  {
   "cell_type": "code",
   "execution_count": 37,
   "id": "2bad1aef",
   "metadata": {},
   "outputs": [],
   "source": [
    "labels = ['17-27', '28-36', '37-46', '47-55', '56+']\n",
    "cust_df['Age'] = pd.cut(cust_df['Age'], bins=5, labels=labels)"
   ]
  },
  {
   "cell_type": "code",
   "execution_count": 43,
   "id": "8ed7939a",
   "metadata": {},
   "outputs": [
    {
     "data": {
      "image/png": "[encoded data removed]",
      "text/plain": [
       "<Figure size 640x480 with 1 Axes>"
      ]
     },
     "metadata": {},
     "output_type": "display_data"
    }
   ],
   "source": [
    "conditions = [\n",
    "    (df2['Age'] >= 18) & (df2['Age'] <= 25),\n",
    "    (df2['Age'] >= 26) & (df2['Age'] <= 39),\n",
    "    (df2['Age'] >= 40) & (df2['Age'] <= 59),\n",
    "    (df2['Age'] >= 60)\n",
    "    ]\n",
    "\n",
    "# Set groups\n",
    "groups = ['Young Adult', 'Adult', 'Older Adult', 'Senior']\n",
    "\n",
    "# Generate age group feature\n",
    "df2['Age Group'] = np.select(conditions, groups)\n",
    "df3 = df2.groupby(['Age Group']).count()\n",
    "df4 = pd.DataFrame(df3['Age'])\n",
    "# Rename column\n",
    "df5 = df5.rename(columns={'Age': 'Customers'})\n",
    "\n",
    "# Get number of adults\n",
    "a_yellow = df5['Customers'][0]\n",
    "oa_yellow = df5['Customers'][1]\n",
    "s_yellow = df5['Customers'][2]\n",
    "ya_yellow = df5['Customers'][3]\n",
    "\n",
    "# for Pink Cab data\n",
    "pink = df2[df2['Company'] == \"Pink Cab\"]\n",
    "df6 = pink.drop_duplicates(subset='Customer ID', keep=\"first\")\n",
    "df7 = df6.groupby(['Age Group']).count()\n",
    "df8 = pd.DataFrame(df7['Age'])\n",
    "df8 = df8.rename(columns={'Age': 'Customers'})\n",
    "a_pink = df8['Customers'][0]\n",
    "oa_pink = df8['Customers'][1]\n",
    "s_pink = df8['Customers'][2]\n",
    "ya_pink = df8['Customers'][3]\n",
    "\n",
    "\n",
    "# Create new data frame with age group values\n",
    "ages = {'Age Group': ['Young Adult', 'Adult', 'Older Adult', 'Senior'], \n",
    "       'Pink Cab': [ya_pink, a_pink, oa_pink, s_pink], \n",
    "        'Yellow Cab': [ya_yellow, a_yellow, oa_yellow, s_yellow]}\n",
    "ages_df = pd.DataFrame(ages)\n",
    "ages_df = ages_df.set_index('Age Group')\n",
    "\n",
    "# Create plot\n",
    "plot = ages_df.plot(kind='bar', title = \"Customer Base by Age Group\", \n",
    "                     color={\"Pink Cab\": 'pink', \"Yellow Cab\": 'yellow'})\n",
    "for bar in plot.patches:\n",
    "    plot.annotate(format(bar.get_height(), '.0f'),\n",
    "                   (bar.get_x() + bar.get_width() / 2,\n",
    "                    bar.get_height()), ha='center', va='center',\n",
    "                   size=9, xytext=(0, 5),\n",
    "                   textcoords='offset points')\n",
    "plot.legend(bbox_to_anchor=(1.05, 1.0), loc='upper left')\n",
    "plt.xticks(rotation=0);"
   ]
  },
  {
   "cell_type": "markdown",
   "id": "c47b82ce",
   "metadata": {},
   "source": [
    "The outcomes show that majority of customers are adults for both the cab companies. however,\n",
    "Yellow cab have more customers from all four age groups.\n",
    "Yellow cab is more popluar among customers of different age groups than pink cab."
   ]
  },
  {
   "cell_type": "markdown",
   "id": "0221d361",
   "metadata": {},
   "source": [
    "# EDA Recommendation and Hypothesis Results:"
   ]
  },
  {
   "cell_type": "markdown",
   "id": "2ce86967",
   "metadata": {},
   "source": [
    "The results in context to the metrics are summarized below:\n",
    "\n",
    "* The gender wise customers rides is about both the genders are same.\n",
    "* Yellow cab has higher overall average profit and average profit per KM travelled.\n",
    "* Yellow cab overall is preffered in all the seasons of the year.\n",
    "* Overall Yellow cab is more profitable.\n",
    "\n",
    "Customerwise:\n",
    "\n",
    "* Yellow cab company have more customers in major cities such as in New York it is the prefered choice.\n",
    "* Yello cab has larger customer based on all age groups.\n",
    "* Yellow cab has larger customers based on both genders.\n",
    "* Overall Yellow Cab satisifies customers reach.\n",
    "\n",
    "The recommendation is that XYZ should invest in yellow cab, since the evidence indicates that this would result in much better ROI then investing in pink cab."
   ]
  },
  {
   "cell_type": "code",
   "execution_count": null,
   "id": "c4239174",
   "metadata": {},
   "outputs": [],
   "source": []
  }
 ],
 "metadata": {
  "kernelspec": {
   "display_name": "Python 3 (ipykernel)",
   "language": "python",
   "name": "python3"
  },
  "language_info": {
   "codemirror_mode": {
    "name": "ipython",
    "version": 3
   },
   "file_extension": ".py",
   "mimetype": "text/x-python",
   "name": "python",
   "nbconvert_exporter": "python",
   "pygments_lexer": "ipython3",
   "version": "3.9.12"
  }
 },
 "nbformat": 4,
 "nbformat_minor": 5
}
